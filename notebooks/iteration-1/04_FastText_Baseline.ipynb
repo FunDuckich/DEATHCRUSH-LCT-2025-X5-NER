{
 "cells": [
  {
   "cell_type": "code",
   "id": "initial_id",
   "metadata": {
    "collapsed": true,
    "jupyter": {
     "is_executing": true
    }
   },
   "source": [
    "import pandas as pd\n",
    "import ast\n",
    "import os\n",
    "import fasttext\n",
    "from sklearn.metrics import classification_report, f1_score\n",
    "from tqdm.auto import tqdm\n",
    "from transformers import AutoTokenizer"
   ],
   "outputs": [],
   "execution_count": null
  },
  {
   "metadata": {},
   "cell_type": "code",
   "outputs": [],
   "execution_count": null,
   "source": [
    "PROCESSED_DATA_PATH = '../../data/processed/'\n",
    "TRAIN_BIO_FILE = PROCESSED_DATA_PATH + 'train_bio.csv'\n",
    "VALIDATION_BIO_FILE = PROCESSED_DATA_PATH + 'validation_bio.csv'\n",
    "\n",
    "FASTTEXT_DATA_PATH = '../../data/processed/fasttext/' \n",
    "TRAIN_FT_FILE = FASTTEXT_DATA_PATH + 'train.txt'\n",
    "\n",
    "os.makedirs(FASTTEXT_DATA_PATH, exist_ok=True)\n",
    "\n",
    "MODELS_PATH = '../../models/iteration-1/'\n",
    "\n",
    "os.makedirs(MODELS_PATH, exist_ok=True)\n",
    "\n",
    "MODEL_FT_FILE = '../../models/iteration-1/fasttext_baseline_v1.bin'\n",
    "VALIDATION_FT_FILE = '../../data/processed/fasttext/validation.txt'\n",
    "\n",
    "SUBMISSION_FILE = '../../data/raw/submission.csv'\n",
    "OUTPUT_SUBMISSION_FILE = '../../notebooks/iteration-1/submissions/submission_fasttext_v1.csv'"
   ],
   "id": "d69a99683b26faf"
  },
  {
   "metadata": {},
   "cell_type": "code",
   "outputs": [],
   "execution_count": null,
   "source": [
    "df_train_bio = pd.read_csv(TRAIN_BIO_FILE, sep=';')\n",
    "df_validation_bio = pd.read_csv(VALIDATION_BIO_FILE, sep=';')\n",
    "\n",
    "for col in ['tokens', 'bio_tags']:\n",
    "    if isinstance(df_train_bio[col].iloc[0], str):\n",
    "        print(f\"Колонка '{col}' в обучающем наборе загружена как строка. Преобразуем...\")\n",
    "        df_train_bio[col] = df_train_bio[col].apply(ast.literal_eval)\n",
    "    if isinstance(df_validation_bio[col].iloc[0], str):\n",
    "        print(f\"Колонка '{col}' в валидационном наборе загружена как строка. Преобразуем...\")\n",
    "        df_validation_bio[col] = df_validation_bio[col].apply(ast.literal_eval)\n",
    "\n",
    "print(\"Данные в BIO-формате успешно загружены.\")\n",
    "print(\"\\nПример данных из обучающего набора:\")\n",
    "display(df_train_bio.head(3))"
   ],
   "id": "52102cf3109436b7"
  },
  {
   "metadata": {},
   "cell_type": "markdown",
   "source": "Функция для преобразования данных в формат FastText",
   "id": "4e82109500fdf895"
  },
  {
   "metadata": {},
   "cell_type": "code",
   "outputs": [],
   "execution_count": null,
   "source": [
    "def create_fasttext_file(df, output_path):\n",
    "    num_samples = 0\n",
    "    with open(output_path, 'w', encoding='utf-8') as f:\n",
    "        for _, row in df.iterrows():\n",
    "            tokens = row['tokens']\n",
    "            tags = row['bio_tags']\n",
    "            \n",
    "            if len(tokens) != len(tags):\n",
    "                print(f\"Пропущена строка из-за несоответствия длин: {len(tokens)} токенов, {len(tags)} тегов.\")\n",
    "                continue\n",
    "\n",
    "            for token, tag in zip(tokens, tags):\n",
    "                token = str(token).replace(\" \", \"_\")\n",
    "                \n",
    "                line = f\"__label__{tag} {token}\\n\"\n",
    "                f.write(line)\n",
    "                num_samples += 1\n",
    "    \n",
    "    print(f\"Файл '{output_path}' успешно создан. Записано {num_samples} обучающих примеров.\")"
   ],
   "id": "cb521eb24533a94b"
  },
  {
   "metadata": {},
   "cell_type": "markdown",
   "source": "Создание файлов",
   "id": "19b7d79514c0dff3"
  },
  {
   "metadata": {},
   "cell_type": "code",
   "outputs": [],
   "execution_count": null,
   "source": [
    "create_fasttext_file(df_train_bio, TRAIN_FT_FILE)\n",
    "\n",
    "create_fasttext_file(df_validation_bio, VALIDATION_FT_FILE)\n",
    "\n",
    "with open(TRAIN_FT_FILE, 'r', encoding='utf-8') as f:\n",
    "    for i, line in enumerate(f):\n",
    "        if i >= 10:\n",
    "            break\n",
    "        print(line.strip())"
   ],
   "id": "2ef44bde2210ea0d"
  },
  {
   "metadata": {},
   "cell_type": "markdown",
   "source": "Обучение модели",
   "id": "a0d82441b9a0fdf"
  },
  {
   "metadata": {},
   "cell_type": "code",
   "outputs": [],
   "execution_count": null,
   "source": [
    "print(\"Начинаем обучение модели FastText...\")\n",
    "\n",
    "try:\n",
    "    model = fasttext.train_supervised(\n",
    "        input=TRAIN_FT_FILE,\n",
    "        epoch=25,\n",
    "        lr=1.0,\n",
    "        wordNgrams=2,\n",
    "        dim=100,\n",
    "        ws=5,\n",
    "        minCount=1,\n",
    "        verbose=2 \n",
    "    )\n",
    "    \n",
    "    print(\"\\nОбучение завершено.\")\n",
    "    \n",
    "    model.save_model(MODEL_FT_FILE)\n",
    "    print(f\"Модель успешно сохранена в файл: {MODEL_FT_FILE}\")\n",
    "    \n",
    "\n",
    "except Exception as e:\n",
    "    print(f\"Произошла ошибка во время обучения: {e}\")"
   ],
   "id": "c6fdafcc1da7ed24"
  },
  {
   "metadata": {},
   "cell_type": "markdown",
   "source": "Проверка",
   "id": "95a4629325879779"
  },
  {
   "metadata": {},
   "cell_type": "code",
   "outputs": [],
   "execution_count": null,
   "source": "",
   "id": "727f88c6fd9ef60c"
  },
  {
   "metadata": {},
   "cell_type": "code",
   "outputs": [],
   "execution_count": null,
   "source": [
    "loaded_model = fasttext.load_model(MODEL_FT_FILE)\n",
    "print(\"Модель успешно загружена для проверки.\")\n",
    "\n",
    "test_words = ['молоко', 'млоко', 'простоквашино', 'coca-cola', '900г', '900гр', '5%', '5проц', 'abcdefg']\n",
    "\n",
    "print(\"\\n--- Тестовые предсказания ---\")\n",
    "for word in test_words:\n",
    "    prediction = loaded_model.predict(word)\n",
    "    predicted_label = prediction[0][0].replace('__label__', '')\n",
    "    confidence = prediction[1][0]\n",
    "    print(f\"Слово: '{word}' -> Предсказанный тег: '{predicted_label}' (уверенность: {confidence:.2f})\")"
   ],
   "id": "ae8a1523e0ac4500"
  },
  {
   "metadata": {},
   "cell_type": "markdown",
   "source": "Оценка качества обучения",
   "id": "e773f47449abd6ef"
  },
  {
   "metadata": {},
   "cell_type": "markdown",
   "source": "",
   "id": "aac471152f57d619"
  },
  {
   "metadata": {},
   "cell_type": "code",
   "outputs": [],
   "execution_count": null,
   "source": [
    "y_true = []\n",
    "y_pred = []\n",
    "\n",
    "print(\"Начинаем генерацию предсказаний для валидационной выборки...\")\n",
    "\n",
    "for line in validation_data:\n",
    "    parts = line.strip().split(' ', 1)\n",
    "    if len(parts) != 2:\n",
    "        continue\n",
    "    \n",
    "    label_str, token = parts\n",
    "    \n",
    "    true_tag = label_str.replace('__label__', '')\n",
    "    y_true.append(true_tag)\n",
    "    \n",
    "    prediction = model.predict(token)\n",
    "    predicted_tag = prediction[0][0].replace('__label__', '')\n",
    "    y_pred.append(predicted_tag)\n",
    "\n",
    "print(\"Генерация предсказаний завершена.\")\n",
    "print(f\"Обработано {len(y_true)} токенов.\")\n",
    "\n",
    "print(\"\\nПримеры предсказаний:\")\n",
    "for i in range(5):\n",
    "    print(f\"Токен: '{validation_data[i].strip().split(' ', 1)[1]}', Истинный тег: '{y_true[i]}', Предсказанный тег: '{y_pred[i]}'\")\n",
    "    \n",
    "labels = sorted(list(set(y_true)))\n",
    "\n",
    "print(\"--- Полный отчет по классификации ---\")\n",
    "report = classification_report(y_true, y_pred, labels=labels, digits=4, zero_division=0)\n",
    "print(report)\n",
    "\n",
    "\n",
    "macro_f1 = f1_score(y_true, y_pred, labels=labels, average='macro', zero_division=0)\n",
    "\n",
    "print(\"\\n\" + \"=\"*50)\n",
    "print(f\"Итоговый Macro F1-score на валидационной выборке: {macro_f1:.4f}\")\n",
    "print(\"=\"*50)"
   ],
   "id": "2c98cc802fe3ee7e"
  },
  {
   "metadata": {},
   "cell_type": "markdown",
   "source": "Формирование файла для оффлайн-оценки",
   "id": "c870327f3daee8e3"
  },
  {
   "metadata": {},
   "cell_type": "code",
   "outputs": [],
   "execution_count": null,
   "source": [
    "TOKENIZER_NAME = 'xlm-roberta-base'\n",
    "try:\n",
    "    tokenizer = AutoTokenizer.from_pretrained(TOKENIZER_NAME)\n",
    "    print(f\"Токенизатор '{TOKENIZER_NAME}' успешно загружен.\")\n",
    "except Exception as e:\n",
    "    print(f\"Ошибка загрузки токенизатора: {e}\")\n",
    "\n",
    "\n",
    "def bio_to_indices(text, bio_tags):\n",
    "    if not text or not bio_tags:\n",
    "        return []\n",
    "\n",
    "    encoding = tokenizer(text, return_offsets_mapping=True, add_special_tokens=False)\n",
    "    tokens_with_offsets = encoding.offset_mapping\n",
    "\n",
    "    if len(tokens_with_offsets) != len(bio_tags):\n",
    "        tokens = text.split()\n",
    "        bio_tags = bio_tags[:len(tokens)] # На всякий случай\n",
    "    \n",
    "    annotations = []\n",
    "    current_pos = 0\n",
    "    for i, (token, tag) in enumerate(zip(text.split(), bio_tags)):\n",
    "        start = text.find(token, current_pos)\n",
    "        end = start + len(token)\n",
    "        current_pos = end\n",
    "        \n",
    "        if tag != 'O':\n",
    "            annotations.append((start, end, tag))\n",
    "            \n",
    "    return annotations\n",
    "\n",
    "model = fasttext.load_model(MODEL_FT_FILE)\n",
    "df_submission = pd.read_csv(SUBMISSION_FILE, sep=';')"
   ],
   "id": "33c00de084af804e"
  },
  {
   "metadata": {},
   "cell_type": "markdown",
   "source": "Генерация предсказаний",
   "id": "d085b46a718fa8f3"
  },
  {
   "metadata": {},
   "cell_type": "code",
   "outputs": [],
   "execution_count": null,
   "source": [
    "def predict_query(query, model):\n",
    "    if not isinstance(query, str) or not query.strip():\n",
    "        return []\n",
    "    \n",
    "    tokens = query.split()\n",
    "    predicted_tags = []\n",
    "    \n",
    "    for token in tokens:\n",
    "        prediction = model.predict(token)\n",
    "        predicted_tag = prediction[0][0].replace('__label__', '')\n",
    "        predicted_tags.append(predicted_tag)\n",
    "        \n",
    "    return predicted_tags"
   ],
   "id": "635105b11cd368cb"
  },
  {
   "metadata": {},
   "cell_type": "code",
   "outputs": [],
   "execution_count": null,
   "source": [
    "tqdm.pandas(desc=\"Обработка запросов\")\n",
    "\n",
    "print(\"Получение BIO-тегов для всех тестовых запросов...\")\n",
    "predicted_bio_tags_list = df_submission['sample'].progress_apply(lambda x: predict_query(x, model))\n",
    "\n",
    "print(\"Конвертация BIO-тегов в индексный формат...\")\n",
    "final_annotations = []\n",
    "for index, row in tqdm(df_submission.iterrows(), total=len(df_submission), desc=\"Конвертация в индексы\"):\n",
    "    query_text = row['sample']\n",
    "    bio_tags = predicted_bio_tags_list[index]\n",
    "    if not isinstance(query_text, str):\n",
    "        query_text = \"\"\n",
    "    \n",
    "    indices = bio_to_indices(query_text, bio_tags)\n",
    "    final_annotations.append(indices)\n",
    "\n",
    "df_submission['annotation'] = final_annotations\n",
    "\n",
    "print(\"\\nПредсказания для тестового набора успешно сгенерированы.\")\n",
    "display(df_submission.head())"
   ],
   "id": "a3060676b0cde1f2"
  },
  {
   "metadata": {},
   "cell_type": "markdown",
   "source": "Сохранение результатов",
   "id": "64510ebf27701cb6"
  },
  {
   "metadata": {},
   "cell_type": "code",
   "outputs": [],
   "execution_count": null,
   "source": [
    "df_submission.to_csv(OUTPUT_SUBMISSION_FILE, sep=';', index=False)\n",
    "\n",
    "print(f\"Файл для отправки успешно сохранен по пути: {OUTPUT_SUBMISSION_FILE}\")\n",
    "\n",
    "print(\"\\nПервые 5 строк итогового файла:\")\n",
    "with open(OUTPUT_SUBMISSION_FILE, 'r', encoding='utf-8') as f:\n",
    "    for i, line in enumerate(f):\n",
    "        if i >= 6:\n",
    "            break\n",
    "        print(line.strip())"
   ],
   "id": "21ac1a63fbecb5b9"
  }
 ],
 "metadata": {
  "kernelspec": {
   "display_name": "Python 3",
   "language": "python",
   "name": "python3"
  },
  "language_info": {
   "codemirror_mode": {
    "name": "ipython",
    "version": 2
   },
   "file_extension": ".py",
   "mimetype": "text/x-python",
   "name": "python",
   "nbconvert_exporter": "python",
   "pygments_lexer": "ipython2",
   "version": "2.7.6"
  }
 },
 "nbformat": 4,
 "nbformat_minor": 5
}
